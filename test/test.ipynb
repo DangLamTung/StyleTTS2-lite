{
 "cells": [
  {
   "cell_type": "code",
   "execution_count": 1,
   "metadata": {},
   "outputs": [
    {
     "name": "stdout",
     "output_type": "stream",
     "text": [
      "c:\\Users\\catto\\Desktop\\Code\\Project\\TTS\\StyleTTS2\n"
     ]
    }
   ],
   "source": [
    "%cd ..\n",
    "import torch\n",
    "from meldataset import build_dataloader\n",
    "import yaml\n",
    "\n",
    "from utils import *\n",
    "from models import *\n"
   ]
  },
  {
   "cell_type": "code",
   "execution_count": null,
   "metadata": {},
   "outputs": [],
   "source": [
    "##Delete training modules\n",
    "\n",
    "# models_path = \"Models/model_en.pth\"\n",
    "# params_whole = torch.load(models_path, map_location='cpu')\n",
    "\n",
    "# for key in list(params_whole.keys()):\n",
    "#     if key != 'net':\n",
    "#         params_whole.pop(key)\n",
    "\n",
    "# keep = ['decoder', 'predictor', 'text_encoder', 'predictor_encoder', 'style_encoder']\n",
    "# for module_name in list(params_whole['net'].keys()):\n",
    "#     if module_name not in keep:\n",
    "#         params_whole['net'].pop(module_name)\n",
    "\n",
    "# torch.save(params_whole, models_path)"
   ]
  },
  {
   "cell_type": "code",
   "execution_count": 2,
   "metadata": {},
   "outputs": [],
   "source": [
    "device = 'cuda' if torch.cuda.is_available() else 'cpu'\n",
    "config = yaml.safe_load(open('Configs/config.yml'))"
   ]
  },
  {
   "cell_type": "code",
   "execution_count": 3,
   "metadata": {},
   "outputs": [],
   "source": [
    "def get_data_path_list(train_path=None, val_path=None):\n",
    "    if train_path is None:\n",
    "        train_path = \"Data/train_list.txt\"\n",
    "    if val_path is None:\n",
    "        val_path = \"Data/val_list.txt\"\n",
    "\n",
    "    with open(train_path, 'r', encoding='utf-8', errors='ignore') as f:\n",
    "        train_list = f.readlines()\n",
    "    with open(val_path, 'r', encoding='utf-8', errors='ignore') as f:\n",
    "        val_list = f.readlines()\n",
    "\n",
    "    return train_list, val_list"
   ]
  },
  {
   "cell_type": "code",
   "execution_count": 4,
   "metadata": {},
   "outputs": [],
   "source": [
    "train_path = \"../../Data_Speech/LibriTTS/train.txt\"\n",
    "val_path = \"../../Data_Speech/LibriTTS/val.txt\"\n",
    "train_list, val_list = get_data_path_list(train_path, val_path)\n",
    "\n",
    "root_path = \"../../Data_Speech/\"\n",
    "min_length = 50\n",
    "batch_size = 3"
   ]
  },
  {
   "cell_type": "code",
   "execution_count": 5,
   "metadata": {},
   "outputs": [],
   "source": [
    "train_dataloader = build_dataloader(train_list,\n",
    "                                    root_path,\n",
    "                                    min_length=min_length,\n",
    "                                    batch_size=batch_size,\n",
    "                                    num_workers=2,\n",
    "                                    dataset_config={},\n",
    "                                    device=device)"
   ]
  },
  {
   "cell_type": "code",
   "execution_count": 12,
   "metadata": {},
   "outputs": [
    {
     "name": "stderr",
     "output_type": "stream",
     "text": [
      "c:\\Users\\catto\\anaconda3\\Lib\\site-packages\\torch\\nn\\utils\\weight_norm.py:28: UserWarning: torch.nn.utils.weight_norm is deprecated in favor of torch.nn.utils.parametrizations.weight_norm.\n",
      "  warnings.warn(\"torch.nn.utils.weight_norm is deprecated in favor of torch.nn.utils.parametrizations.weight_norm.\")\n",
      "c:\\Users\\catto\\anaconda3\\Lib\\site-packages\\torch\\nn\\modules\\rnn.py:83: UserWarning: dropout option adds dropout after all but last recurrent layer, so non-zero dropout expects num_layers greater than 1, but got dropout=0.2 and num_layers=1\n",
      "  warnings.warn(\"dropout option adds dropout after all but last \"\n"
     ]
    }
   ],
   "source": [
    "model_params = recursive_munch(config['model_params'])\n",
    "model = build_model(model_params)\n",
    "_ = [model[key].to(device) for key in model]"
   ]
  },
  {
   "cell_type": "code",
   "execution_count": 13,
   "metadata": {},
   "outputs": [],
   "source": [
    "models_path = \"Models/Finetune_Extend/current_model_100k_vi.pth\"\n",
    "params_whole = torch.load(models_path, map_location='cpu')"
   ]
  },
  {
   "cell_type": "code",
   "execution_count": 16,
   "metadata": {},
   "outputs": [],
   "source": [
    "keys_to_keep = ['predictor', 'decoder', 'text_encoder','predictor_encoder', 'style_encoder']\n",
    "params = params_whole['net']\n",
    "params = {key: value for key, value in params.items() if key in keys_to_keep}"
   ]
  },
  {
   "cell_type": "code",
   "execution_count": 18,
   "metadata": {},
   "outputs": [
    {
     "data": {
      "text/plain": [
       "dict_keys(['decoder', 'predictor', 'text_encoder', 'predictor_encoder', 'style_encoder'])"
      ]
     },
     "execution_count": 18,
     "metadata": {},
     "output_type": "execute_result"
    }
   ],
   "source": [
    "params.keys()"
   ]
  }
 ],
 "metadata": {
  "kernelspec": {
   "display_name": "base",
   "language": "python",
   "name": "python3"
  },
  "language_info": {
   "codemirror_mode": {
    "name": "ipython",
    "version": 3
   },
   "file_extension": ".py",
   "mimetype": "text/x-python",
   "name": "python",
   "nbconvert_exporter": "python",
   "pygments_lexer": "ipython3",
   "version": "3.11.7"
  }
 },
 "nbformat": 4,
 "nbformat_minor": 2
}
