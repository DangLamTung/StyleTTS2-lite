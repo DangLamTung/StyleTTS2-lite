{
 "cells": [
  {
   "cell_type": "code",
   "execution_count": null,
   "id": "5a3ddcc8",
   "metadata": {},
   "outputs": [
    {
     "name": "stdout",
     "output_type": "stream",
     "text": [
      "c:\\Users\\catto\\Desktop\\Code\\Project\\TTS\\StyleTTS2\n"
     ]
    }
   ],
   "source": [
    "%cd ..\n",
    "from inference import StyleTTS2\n",
    "\n",
    "import librosa\n",
    "import IPython.display as ipd\n",
    "import torch.cuda\n",
    "\n",
    "#device = 'cuda' if torch.cuda.is_available() else 'cpu'\n",
    "device = 'cpu'"
   ]
  },
  {
   "cell_type": "markdown",
   "id": "7b9cecbe",
   "metadata": {},
   "source": [
    "### Load models"
   ]
  },
  {
   "cell_type": "code",
   "execution_count": null,
   "id": "e7b9c01d",
   "metadata": {},
   "outputs": [],
   "source": [
    "config_path = \"Models/Finetune_Extend/config.yml\"\n",
    "models_path = \"Models/Finetune_Extend/current_model_120k.pth\""
   ]
  },
  {
   "cell_type": "markdown",
   "id": "b803110e",
   "metadata": {},
   "source": [
    "### Synthesize speech\n",
    "\n",
    "Little Note:\n",
    "\n",
    "- You don't need to add language tokens everywhere, espeak can detect and handle them automatically most of the time.\n",
    "\n",
    "- Reference audio has a huge impact on the result. It is best to select audio around 10s long and consistent in both tone and speed."
   ]
  },
  {
   "cell_type": "code",
   "execution_count": null,
   "id": "78396f70",
   "metadata": {},
   "outputs": [],
   "source": [
    "speakers = {\n",
    "    \"id_1\": {\n",
    "        \"path\": \"Demo/reference_audio/vn_1.wav\",#Ref audio path\n",
    "        \"lang\": \"vi\",                           #Default language\n",
    "        \"speed\": 1.0,                           #Speaking speed\n",
    "    },\n",
    "    \"id_2\": {\n",
    "        \"path\": \"Demo/reference_audio/vn_4.wav\",\n",
    "        \"lang\": \"vi\",\n",
    "        \"speed\": 1.0,\n",
    "    },\n",
    "}\n",
    "for id in speakers:\n",
    "    max_samples = 24000*30 #max 30 seconds ref audio\n",
    "    print(speakers[id]['path'])\n",
    "    wave, sr = librosa.load(speakers[id]['path'], sr=24000)\n",
    "    audio, index = librosa.effects.trim(wave, top_db=30)\n",
    "    if sr != 24000: audio = librosa.resample(audio, sr, 24000)\n",
    "    if len(audio) > max_samples: audio = audio[:max_samples]\n",
    "    display(ipd.Audio(audio, rate=24000, normalize=True))"
   ]
  },
  {
   "cell_type": "code",
   "execution_count": null,
   "id": "395959f1",
   "metadata": {},
   "outputs": [],
   "source": [
    "# text = '''Đã sáu năm trôi qua kể từ khi tôi quyết định theo đuổi công việc hiện tại. Ngay cả bây giờ, tôi vẫn nhớ rõ khoảnh khắc tôi đã dồn hết tâm huyết cho cuộc hành trình vĩ đại này. Tôi bắt đầu bằng cách rèn luyện cơ thể mình chịu đựng gian khổ. Tôi đã cùng những người săn cá voi tham gia vào một số chuyến thám hiểm đến Biển Bắc; tôi tự nguyện chịu đựng cái lạnh, cơn đói, cơn khát và thiếu ngủ; tôi làm việc chăm chỉ hơn những thủy thủ khác vào ban ngày và dành cả đêm để học toán học, y học, cũng như những các nhánh khoa học tự nhiên khác mà một nhà thám hiểm hàng hải có thể vận dụng để đạt thành tựu lớn nhất. Hai lần, tôi đã tự nguyện gia nhập làm phó dưới trên một con tàu săn cá voi tại Greenland, và tôi đã thể hiện bản thân một cách khiến người khác ngưỡng mộ. Tôi phải thừa nhận rằng, tôi cảm thấy hơi tự hào khi thuyền trưởng đã đề nghị cho tôi vị trí cao thứ hai trên tàu và khẩn cầu tôi ở lại với sự nhiệt thành, bởi ông rất coi trọng năng lực của tôi.'''\n",
    "\n",
    "# text = '''\n",
    "# [id_1][en-us]{What's up hommie}, dạo này đang học tí [en-us]{English}. Thấy bảo [en-us]{Building a strong vocabulary} khá là quan trọng. [en-us]{Bro} thấy sao?\n",
    "\n",
    "# [id_2][en-us]{That's right}, tôi thấy [en-us]{bro} nên bắt đầu với việc đọc sách và báo tiếng Anh để quen với cách sử dụng từ, cũng như tập trung vào [en-us]{listening exercises} để cải thiện khả năng nghe.\n",
    "\n",
    "# [id_1]Nghe nói rằng [en-us]{speaking practice} là bước quan trọng để giao tiếp tự tin. [en-us]{Bro} có muốn luyện tập với tôi không?\n",
    "\n",
    "# [id_2][en-us]{For sure my hommie} à, cứ cho mình cái hẹn nhé.\n",
    "# '''\n",
    "\n",
    "text = '''\n",
    "Việt Nam và Mỹ sẽ đàm phán một thỏa thuận thương mại song phương.\n",
    "Vài giờ sau khi mức thuế đối ứng cao được tạm hoãn, Việt Nam - Mỹ đạt thống nhất sẽ đàm phán thỏa thuận thương mại song phương, trong đó có nội dung thuế.\n",
    "Trong chuyến thăm và làm việc tại Mỹ ngày 10/4 (giờ Mỹ) tại Washington, Đặc phái viên của Tổng Bí thư, Phó thủ tướng Hồ Đức Phớc đã gặp Bộ trưởng Tài chính Mỹ Scott Bessent và Bộ trưởng Thương mại Howard Lutnick.\n",
    "'''"
   ]
  },
  {
   "cell_type": "code",
   "execution_count": null,
   "id": "16194211",
   "metadata": {},
   "outputs": [],
   "source": [
    "model             = StyleTTS2(config_path, models_path).eval().to(device)\n",
    "default_speaker   = \"[id_1]\"  #INT    Default speaker used when no speaker_id is provided in the input\n",
    "avg_style         = True      #BOOL   Split the ref audio and calculate the avg styles.\n",
    "stabilize         = True      #BOOL   Stabilize speaking speed.\n",
    "denoise           = 0.6       #FLOAT  Adjust the strength of the denoiser. Value range is [0, 1]\n",
    "n_merge           = 16        #INT    Avoid short sentences by merging when a sentence has fewer than n words"
   ]
  },
  {
   "cell_type": "code",
   "execution_count": null,
   "id": "59e0a2a1",
   "metadata": {},
   "outputs": [],
   "source": [
    "with torch.no_grad():\n",
    "    r = model.generate(text, speakers, avg_style, stabilize, denoise, n_merge, default_speaker)\n",
    "\n",
    "print('Synthesized:')\n",
    "display(ipd.Audio(r, rate=24000, normalize=True))"
   ]
  }
 ],
 "metadata": {
  "kernelspec": {
   "display_name": "base",
   "language": "python",
   "name": "python3"
  },
  "language_info": {
   "codemirror_mode": {
    "name": "ipython",
    "version": 3
   },
   "file_extension": ".py",
   "mimetype": "text/x-python",
   "name": "python",
   "nbconvert_exporter": "python",
   "pygments_lexer": "ipython3",
   "version": "3.11.7"
  }
 },
 "nbformat": 4,
 "nbformat_minor": 5
}
